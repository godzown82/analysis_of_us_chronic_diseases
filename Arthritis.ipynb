{
 "cells": [
  {
   "cell_type": "code",
   "execution_count": 1,
   "metadata": {},
   "outputs": [],
   "source": [
    "import pandas as pd\n",
    "import matplotlib as plt\n",
    "import numpy as np\n",
    "import matplotlib.pyplot as plt\n"
   ]
  },
  {
   "cell_type": "code",
   "execution_count": 2,
   "metadata": {},
   "outputs": [],
   "source": [
    "arthiritis_df = pd.read_csv('Arthritis.csv')"
   ]
  },
  {
   "cell_type": "code",
   "execution_count": 3,
   "metadata": {},
   "outputs": [
    {
     "data": {
      "text/plain": [
       "Index(['YearStart', 'YearEnd', 'LocationAbbr', 'Topic', 'Question',\n",
       "       'DataValue', 'DataValueUnit', 'DataValueType', 'DatavalueFootnote',\n",
       "       'LowConfidenceLimit', 'HighConfidenceLimit', 'StratificationCategory1',\n",
       "       'Stratification1'],\n",
       "      dtype='object')"
      ]
     },
     "execution_count": 3,
     "metadata": {},
     "output_type": "execute_result"
    }
   ],
   "source": [
    "arthiritis_df.columns"
   ]
  },
  {
   "cell_type": "code",
   "execution_count": null,
   "metadata": {},
   "outputs": [],
   "source": [
    "arthiritis_df['DataValueUnit'].value_counts()"
   ]
  },
  {
   "cell_type": "code",
   "execution_count": 4,
   "metadata": {},
   "outputs": [
    {
     "data": {
      "text/plain": [
       "Question\n",
       "Arthritis among adults aged >= 18 years                                                                    8842\n",
       "Fair or poor health among adults aged >= 18 years with arthritis                                           7319\n",
       "Arthritis among adults aged >= 18 years who are obese                                                      7223\n",
       "Physical inactivity among adults aged >= 18 years with arthritis                                           7170\n",
       "Arthritis among adults aged >= 18 years who have diabetes                                                  6245\n",
       "Arthritis among adults aged >= 18 years who have heart disease                                             5607\n",
       "Activity limitation due to arthritis among adults aged >= 18 years who have doctor-diagnosed arthritis     3821\n",
       "Severe joint pain due to arthritis among adults aged >= 18 years who have doctor-diagnosed arthritis       3726\n",
       "Work limitation due to arthritis among adults aged 18-64 years who have doctor-diagnosed arthritis         3322\n",
       "Adults aged >= 18 years with arthritis who have taken a class to learn how to manage arthritis symptoms    1534\n",
       "Name: count, dtype: int64"
      ]
     },
     "execution_count": 4,
     "metadata": {},
     "output_type": "execute_result"
    }
   ],
   "source": [
    "arthiritis_df['Question'].value_counts()\n"
   ]
  },
  {
   "cell_type": "code",
   "execution_count": null,
   "metadata": {},
   "outputs": [],
   "source": [
    "arthiritis_df['LocationAbbr'].value_counts()"
   ]
  },
  {
   "cell_type": "code",
   "execution_count": null,
   "metadata": {},
   "outputs": [],
   "source": [
    "#This code will show me if the YearStart column and the YearEnd column are all the same or not\n",
    "same_years = (arthiritis_df['YearStart'] == arthiritis_df['YearEnd']).all()\n",
    "\n",
    "if same_years:\n",
    "    print(\"The 'YearStart' and 'YearEnd' columns have the same values in all rows.\")\n",
    "else:\n",
    "    print(\"The 'YearStart' and 'YearEnd' columns do not have the same values in all rows.\")"
   ]
  },
  {
   "cell_type": "code",
   "execution_count": null,
   "metadata": {},
   "outputs": [],
   "source": [
    "#need to put the YearStart in order\n",
    "arthiritis_df=arthiritis_df.sort_values(by='YearEnd')\n",
    "arthiritis_df"
   ]
  },
  {
   "cell_type": "code",
   "execution_count": null,
   "metadata": {},
   "outputs": [],
   "source": [
    "#This would turn 'YearEnd' into a date time by year but im sure why would need to do this will investigate more\n",
    "#arthiritis_df['YearEnd'] = pd.to_datetime(arthiritis_df['YearEnd'], format='%Y')\n",
    "\n",
    "#This code allows us to display value counts in order by year so we can see the order of years and how many rows of data each year contains\n",
    "# use this code if you convert to datetime (year_end_counts = arthiritis_df['YearEnd'].dt.year.value_counts().sort_index())\n",
    "year_end_counts = arthiritis_df['YearEnd'].value_counts().sort_index()\n",
    "year_end_counts\n",
    "#data summary for years: it looks like 2007 could be considered an outlier and possibly unusable for our analysis"
   ]
  },
  {
   "cell_type": "code",
   "execution_count": null,
   "metadata": {},
   "outputs": [],
   "source": [
    "# chekcing the dtype of the column 'YearEnd', thus far int64 is our goal, but might check again if datetime becomes our targeted dtype\n",
    "arthiritis_df['YearEnd'].dtype\n"
   ]
  },
  {
   "cell_type": "code",
   "execution_count": null,
   "metadata": {},
   "outputs": [],
   "source": [
    "#need to explore what kind of data we have in the DataValue comlumn to see what we can compare and use for a graph\n",
    "#footnotes should give me an idea of what the numbers mean, check against documentation for further understanding\n",
    "#need to understand if the questions datavalue is infering more or lesslikley hood of chronic desease\n",
    "#Questions could be something that we could compare, need to check if the datavalues are comparable for all the same Questions\n",
    "#what will groupby do if i groupby question: desired result it will group all same questions together to have comparable data amongst the same questions\n",
    "#I might also need to groupby year: desired result all the same question whithin a particular year grouped together so I can show yearly changes with comparable data\n",
    "#The LocationAbbr includes US, which has to be addressed\n",
    "#we need to seperate or group by year,question, stratificationCategory1 and then stratification1 if not Overall\n",
    "\n",
    "\n",
    "arthiritis_df\n"
   ]
  },
  {
   "cell_type": "code",
   "execution_count": null,
   "metadata": {},
   "outputs": [],
   "source": [
    "smokless_df =arthiritis_df.loc[arthiritis_df['Question'] == 'Current smokeless arthiritis use among adults aged >= 18 years']\n",
    "smokless_df"
   ]
  },
  {
   "cell_type": "code",
   "execution_count": null,
   "metadata": {},
   "outputs": [],
   "source": [
    "#This groups the dataframe first by Year and then question, StratificationCat1, stratification, and finally groups by location\n",
    "#It then applys a lambda function to make sure the years are in order.\n",
    "#This currently does not address US in the locations with individual states\n",
    "grouped_arthiritis_df = arthiritis_df.groupby(['YearEnd','Question','StratificationCategory1','Stratification1','LocationAbbr']).apply(\n",
    "    lambda x: x.sort_values(by = 'YearEnd')).reset_index(drop = True)\n",
    "\n",
    "grouped_arthiritis_df.head()"
   ]
  },
  {
   "cell_type": "code",
   "execution_count": null,
   "metadata": {},
   "outputs": [],
   "source": [
    "#use this to look at a list of possible questions to choose from\n",
    "grouped_arthiritis_df['Question'].value_counts()"
   ]
  },
  {
   "cell_type": "code",
   "execution_count": 188,
   "metadata": {},
   "outputs": [],
   "source": [
    "#The question is can we turn this into a function to apply to other csvs???\n",
    "\n",
    "#creates a list with all the target valus in the Questions column\n",
    "questions = grouped_arthiritis_df['Question'].unique().tolist()\n",
    "#creating an empty dictionary to store dataframes with their own unique questions\n",
    "dfs = {}\n",
    "#looping through our grouped dataframe to create multiple dataframes containing only one question along with its values and then storing them in a dictionary\n",
    "# also sets their key values to the target question in their respective dataframes\n",
    "for question in questions:\n",
    "    df_name = question\n",
    "    dfs[df_name] = grouped_arthiritis_df.loc[grouped_arthiritis_df['Question'] == question]\\\n",
    "        .loc[grouped_arthiritis_df['LocationAbbr'] == 'US']\\\n",
    "        .loc[grouped_arthiritis_df['StratificationCategory1'] == 'Overall']\n",
    "\n",
    "\n",
    "\n"
   ]
  },
  {
   "cell_type": "code",
   "execution_count": null,
   "metadata": {},
   "outputs": [],
   "source": [
    "#renaming all the dataframes in the dfs{} and storing them in their respective dataframes\n",
    "us_overall_18_older_smokers_df = dfs['Current smoking among adults aged >= 18 years']\n",
    "us_overall_quit_arthiritis_df = dfs['Quit attempts in the past year among current smokers']\n",
    "us_overall_pneumococcal_vaccination_adult_age18_64_smokers_df =dfs['Pneumococcal vaccination among noninstitutionalized adults aged 18-64 years who smoke']\n",
    "us_overall_smokeless_arthiritis_adult_df = dfs['Current smokeless arthiritis use among adults aged >= 18 years']\n",
    "us_overall_pneumococcal_vaccination_adult_age65_older_smokers_df=dfs['Pneumococcal vaccination among noninstitutionalized adults aged >= 65 years who smoke']\n",
    "us_overall_ciggarette_women_age18_44_df=dfs['Current cigarette smoking among women aged 18-44 years']\n",
    "us_overall_smokingb4pregnancy_df = dfs['Cigarette smoking before pregnancy']\n",
    "us_overall_cigarette_youth_df=dfs['Current cigarette smoking among youth']\n",
    "us_overall_smokeless_youth_df=dfs['Current smokeless arthiritis use among youth']\n",
    "us_overall_smoke_free_indoor_policy=dfs['Proportion of the population protected by a comprehensive smoke-free policy prohibiting smoking in all indoor areas of workplaces and public places, including restaurants and bars']\n",
    "us_overall_sale_cigarette_packs=dfs['Sale of cigarette packs']\n",
    "us_overall_2nd_school_arthiritis_free_policy=dfs['Secondary schools that have a comprehensive arthiritis-free school policy in place']\n",
    "us_overall_arthiritis_revenue_fund_cdc_level = dfs['Percent arthiritis revenue to fund at CDC recommended level']"
   ]
  },
  {
   "cell_type": "code",
   "execution_count": null,
   "metadata": {},
   "outputs": [],
   "source": [
    "#loops through the dfs dictionary to extract the individual dfs by their 'Question' name and then plot them by yearend and datavalue\n",
    "for df_name, df in dfs.items():\n",
    "    plt.figure(figsize=(10, 6))\n",
    "    plt.plot(df['YearEnd'], df['DataValue'], label=df['DataValueUnit'].count())\n",
    "    plt.xlabel('YearEnd')\n",
    "    plt.ylabel('DataValue')\n",
    "    plt.title(df_name.replace('_', ' ').title())\n",
    "    plt.legend()\n",
    "    plt.show()"
   ]
  },
  {
   "cell_type": "markdown",
   "metadata": {},
   "source": [
    "Results: 'Percent tobacco revenue to fund at CDC recommended level' & 'Sale of cigarette packs' & 'Secondary schools that have a comprehensive tobacco-free school policy in place' dataframes don't have US or possibly Overall data causing them to be empty\n",
    "\n",
    "dataframes with similar datavalue units that we could possibly plot on one graph:\n",
    "    us_overall_ciggarette_women_age18_44_df=dfs['Current cigarette smoking among women aged 18-44 years']\n",
    "    us_overall_smokingb4pregnancy_df = dfs['Cigarette smoking before pregnancy']\n",
    "#The top two have ranges 14 to 22 and the bottom has 15 to 21 could possibly combine these\n",
    "    us_overall_18_older_smokers_df = dfs['Current smoking among adults aged >= 18 years']\n",
    "\n",
    "#range 4 to 9\n",
    "    us_overall_smokeless_youth_df=dfs['Current smokeless tobacco use among youth']\n",
    "#range 6 to 16\n",
    "    us_overall_cigarette_youth_df=dfs['Current cigarette smoking among youth']\n",
    "\n",
    "#range 52 to 66\n",
    "    us_overall_quit_tobacco_df = dfs['Quit attempts in the past year among current smokers']\n",
    "#range 60 to 68\n",
    "    us_overall_pneumococcal_vaccination_adult_age65_older_smokers_df=dfs['Pneumococcal vaccination among noninstitutionalized adults aged >= 65 years who smoke']\n",
    "#range 50 to 62\n",
    "    us_overall_smoke_free_indoor_policy=dfs['Proportion of the population protected by a comprehensive smoke-free policy prohibiting smoking in all indoor areas of workplaces and public places, including restaurants and bars']\n",
    "\n",
    "\n"
   ]
  },
  {
   "cell_type": "code",
   "execution_count": null,
   "metadata": {},
   "outputs": [],
   "source": [
    "#renaming all the dataframes in the dfs{} and storing them in their respective dataframes\n",
    "us_overall_18_older_smokers_df = dfs['Current smoking among adults aged >= 18 years']\n",
    "us_overall_quit_arthiritis_df = dfs['Quit attempts in the past year among current smokers']\n",
    "us_overall_pneumococcal_vaccination_adult_age18_64_smokers_df =dfs['Pneumococcal vaccination among noninstitutionalized adults aged 18-64 years who smoke']\n",
    "us_overall_smokeless_arthiritis_adult_df = dfs['Current smokeless arthiritis use among adults aged >= 18 years']\n",
    "us_overall_pneumococcal_vaccination_adult_age65_older_smokers_df=dfs['Pneumococcal vaccination among noninstitutionalized adults aged >= 65 years who smoke']\n",
    "us_overall_ciggarette_women_age18_44_df=dfs['Current cigarette smoking among women aged 18-44 years']\n",
    "us_overall_smokingb4pregnancy_df = dfs['Cigarette smoking before pregnancy']\n",
    "us_overall_cigarette_youth_df=dfs['Current cigarette smoking among youth']\n",
    "us_overall_smokeless_youth_df=dfs['Current smokeless arthiritis use among youth']\n",
    "us_overall_smoke_free_indoor_policy=dfs['Proportion of the population protected by a comprehensive smoke-free policy prohibiting smoking in all indoor areas of workplaces and public places, including restaurants and bars']\n",
    "us_overall_sale_cigarette_packs=dfs['Sale of cigarette packs']\n",
    "us_overall_2nd_school_arthiritis_free_policy=dfs['Secondary schools that have a comprehensive arthiritis-free school policy in place']\n",
    "us_overall_arthiritis_revenue_fund_cdc_level = dfs['Percent arthiritis revenue to fund at CDC recommended level']"
   ]
  },
  {
   "cell_type": "code",
   "execution_count": null,
   "metadata": {},
   "outputs": [],
   "source": [
    "#filter these by location and possibly Overall and maybe we could make a bar graph?\n",
    "overall_sale_cigarette_packs_df=grouped_arthiritis_df.loc[grouped_arthiritis_df['Question'] == 'Sale of cigarette packs']\\\n",
    ".loc[grouped_arthiritis_df['StratificationCategory1'] == 'Overall']\n",
    "\n",
    "overall_2nd_school_arthiritis_free_policy_df = grouped_arthiritis_df.loc[grouped_arthiritis_df['Question'] == 'Secondary schools that have a comprehensive arthiritis-free school policy in place']\\\n",
    ".loc[grouped_arthiritis_df['StratificationCategory1'] == 'Overall']\n",
    "\n",
    "overall_arthiritis_revenue_fund_cdc_level_df =grouped_arthiritis_df.loc[grouped_arthiritis_df['Question'] == 'Percent arthiritis revenue to fund at CDC recommended level']\\\n",
    ".loc[grouped_arthiritis_df['StratificationCategory1'] == 'Overall'] \n",
    "\n",
    "#overall_sale_cigarette_packs_df\n",
    "#overall_2nd_school_arthiritis_free_policy_df\n",
    "#overall_arthiritis_revenue_fund_cdc_level_df\n",
    "\n",
    "overall_sale_cigarette_packs_df.plot(kind ='bar', x = 'YearEnd', y = \"DataValue\", label = 'Sale of Cigarette Packs')\n",
    "overall_2nd_school_arthiritis_free_policy_df.plot(kind ='bar',x = 'YearEnd', y = \"DataValue\", label = 'Secondary schools that have a comprehensive arthiritis-free school policy in place')\n",
    "overall_arthiritis_revenue_fund_cdc_level_df.plot(kind ='bar', x = 'YearEnd', y = \"DataValue\", label = 'Percent arthiritis revenue to fund at CDC recommended level')\n",
    "#plt.legend()\n",
    "#plt.figure(figsize=(20,10))"
   ]
  },
  {
   "cell_type": "code",
   "execution_count": null,
   "metadata": {},
   "outputs": [],
   "source": [
    "#lets choose a question with an easy to understand and compareble data value with the location being the US and the stratification being overall\n",
    "# ill start by looking at questions and datavaluess\n",
    "us_overall_smokingb4pregnancy_df =grouped_arthiritis_df.loc[grouped_arthiritis_df['Question'] == 'Cigarette smoking before pregnancy'].loc[grouped_arthiritis_df['LocationAbbr'] == 'US']\\\n",
    ".loc[grouped_arthiritis_df['StratificationCategory1'] == 'Overall']\n",
    "\n",
    "us_overall_quit_arthiritis_df =grouped_arthiritis_df.loc[grouped_arthiritis_df['Question'] == 'Quit attempts in the past year among current smokers'].loc[grouped_arthiritis_df['LocationAbbr'] == 'US']\\\n",
    ".loc[grouped_arthiritis_df['StratificationCategory1'] == 'Overall']\n",
    "#us_overall_smokingb4pregnancy_df\n",
    "#us_overall_quit_arthiritis_df.info()\n",
    "#us_overall_quit_arthiritis_df[['DataValue', 'DataValueUnit', 'DataValueType']]"
   ]
  },
  {
   "cell_type": "code",
   "execution_count": null,
   "metadata": {},
   "outputs": [],
   "source": [
    "us_overall_smokingb4pregnancy_df.plot(x = 'YearEnd', y = \"DataValue\", label = 'Smoking before pregancy')\n",
    "us_overall_quit_arthiritis_df.plot(x = 'YearEnd', y = \"DataValue\", label = 'Attempts to quit arthiritis')\n",
    "plt.legend()\n",
    "\n",
    "# plt.plot(us_overall_quit_arthiritis_df['YearEnd'], us_overall_quit_arthiritis_df['DataValue'], label = \"Attempts to quit arthiritis\")\n",
    "# plt.plot(us_overall_smokingb4pregnancy_df[\"YearEnd\"], us_overall_smokingb4pregnancy_df['DataValue'], label = 'Smoking before pregancy')\n",
    "# plt.legend()\n",
    "\n",
    "\n",
    "# plt.plot( question_year_filter[\"YearEnd\"] , question_year_filter['Question1'], label = 'Change1')\n",
    "# plt.plot( question_year_filter[\"YearEnd\"] , question_year_filter['Question2'], label = 'Question2')\n",
    "# plt.xlabel('Year')\n",
    "# plt.ylabel('Question')\n",
    "# plt.title('arthiritis')\n",
    "# plt.legend()"
   ]
  },
  {
   "cell_type": "code",
   "execution_count": null,
   "metadata": {},
   "outputs": [],
   "source": [
    "plt.plot(us_overall_quit_arthiritis_df['YearEnd'], us_overall_quit_arthiritis_df['DataValue'], label = \"Attempts to quit arthiritis\")\n",
    "plt.plot(us_overall_smokingb4pregnancy_df[\"YearEnd\"], us_overall_smokingb4pregnancy_df['DataValue'], label = 'Smoking before pregancy')\n",
    "plt.legend()\n",
    "\n",
    "\n",
    "# plt.plot( question_year_filter[\"YearEnd\"] , question_year_filter['Question1'], label = 'Change1')\n",
    "# plt.plot( question_year_filter[\"YearEnd\"] , question_year_filter['Question2'], label = 'Question2')\n",
    "# plt.xlabel('Year')\n",
    "# plt.ylabel('Question')\n",
    "# plt.title('arthiritis')\n",
    "# plt.legend()"
   ]
  },
  {
   "cell_type": "code",
   "execution_count": null,
   "metadata": {},
   "outputs": [],
   "source": [
    "arthiritis_df['Question'].value_counts()"
   ]
  },
  {
   "cell_type": "code",
   "execution_count": null,
   "metadata": {},
   "outputs": [],
   "source": [
    "#we first filtered the dataframe to only include 2 questions as well as location = US, stratification = Overall\n",
    "\n",
    "question_year_df =grouped_arthiritis_df.loc[grouped_arthiritis_df['Question'].isin(['Current smoking among adults aged >= 18 years', 'Current smokeless arthiritis use among adults aged >= 18 years'])].loc[grouped_arthiritis_df['LocationAbbr'] == 'US']\\\n",
    ".loc[grouped_arthiritis_df['StratificationCategory1'] == 'Overall']\n",
    "\n",
    "#put each question into its own list\n",
    "# Create new columns based on the values in the 'Initial_Column'\n",
    "question_year_df['Question1'] = np.where(question_year_df['Question'] =='Current smoking among adults aged >= 18 years',\n",
    "                                         question_year_df['DataValue'],\n",
    "                                         np.nan)\n",
    "question_year_df['Question2'] = np.where(question_year_df['Question'] =='Current smokeless arthiritis use among adults aged >= 18 years',\n",
    "                                         question_year_df['DataValue'],\n",
    "                                         np.nan)\n",
    "question_year_df.head()\n"
   ]
  },
  {
   "cell_type": "code",
   "execution_count": null,
   "metadata": {},
   "outputs": [],
   "source": [
    "question_year_df.columns\n"
   ]
  },
  {
   "cell_type": "code",
   "execution_count": null,
   "metadata": {},
   "outputs": [],
   "source": [
    "question_year_filter = question_year_df[['YearEnd','Question1','Question2']]\n",
    "#question_year_filter.set_index(\"YearEnd\")\n",
    "question_year_filter.head()"
   ]
  },
  {
   "cell_type": "code",
   "execution_count": null,
   "metadata": {},
   "outputs": [],
   "source": [
    "#ploting 2 question on the same graph with YearEnd as the x axis\n",
    "plt.plot( question_year_filter[\"YearEnd\"] , question_year_filter['Question1'], label = 'Change1')\n",
    "plt.plot( question_year_filter[\"YearEnd\"] , question_year_filter['Question2'], label = 'Question2')\n",
    "plt.xlabel('Year')\n",
    "plt.ylabel('Question')\n",
    "plt.title('arthiritis')\n",
    "plt.legend()"
   ]
  },
  {
   "cell_type": "code",
   "execution_count": null,
   "metadata": {},
   "outputs": [],
   "source": [
    "#df['column_name'] = df['column_name'].astype(int)\n",
    "question_year_filter['YearEnd'] = question_year_filter['YearEnd'].astype(int)\n",
    "\n",
    "question_year_filter[['Question1', 'Question2']].plot()\n",
    "\n",
    "\n",
    "\n",
    "#question_year_filter.plot(y = 'Question1', 'Question2')\n"
   ]
  },
  {
   "cell_type": "code",
   "execution_count": null,
   "metadata": {},
   "outputs": [],
   "source": [
    "us_overall_df =grouped_arthiritis_df.loc[grouped_arthiritis_df['Question'].isin(['Current smoking among adults aged >= 18 years', 'Current smokeless arthiritis use among adults aged >= 18 years'])].loc[grouped_arthiritis_df['LocationAbbr'] == 'US']\\\n",
    ".loc[grouped_arthiritis_df['StratificationCategory1'] == 'Overall']\n",
    "\n",
    "us_overall_df.tail()\n"
   ]
  },
  {
   "cell_type": "code",
   "execution_count": null,
   "metadata": {},
   "outputs": [],
   "source": [
    "us_overall_df.plot(kind = 'scatter', x='YearEnd', y= 'DataValue', title ='Question' )"
   ]
  }
 ],
 "metadata": {
  "kernelspec": {
   "display_name": "dev",
   "language": "python",
   "name": "python3"
  },
  "language_info": {
   "codemirror_mode": {
    "name": "ipython",
    "version": 3
   },
   "file_extension": ".py",
   "mimetype": "text/x-python",
   "name": "python",
   "nbconvert_exporter": "python",
   "pygments_lexer": "ipython3",
   "version": "3.10.14"
  }
 },
 "nbformat": 4,
 "nbformat_minor": 2
}
