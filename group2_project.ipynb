{
 "cells": [
  {
   "cell_type": "code",
   "execution_count": 1,
   "metadata": {},
   "outputs": [],
   "source": [
    "import pandas as pd\n",
    "import numpy as np\n",
    "import matplotlib.pyplot as plt"
   ]
  },
  {

   "cell_type": "markdown",
   "metadata": {},
   "source": [
    "https://catalog.data.gov/dataset/u-s-chronic-disease-indicators-cdi"
   ]
  },
  {
   "cell_type": "code",
   "execution_count": 2,
    
   "metadata": {},
   "outputs": [
    {
     "name": "stderr",
     "output_type": "stream",
     "text": [

      "C:\\Users\\tyzwh\\AppData\\Local\\Temp\\ipykernel_2916\\516990178.py:3: DtypeWarning: Columns (10) have mixed types. Specify dtype option on import or set low_memory=False.\n",

      
      "  data= pd.read_csv('U.S._Chronic_Disease_Indicators__CDI___2023_Release.csv')\n"
     ]
    }
   ],
   "source": [

    "#For this code to read in the csv you will need to click the link above and download the csv provided and add it to this folder or correct the path\n",
    "#warning this file is too large for github\n",

    "data= pd.read_csv('U.S._Chronic_Disease_Indicators__CDI___2023_Release.csv')"
   ]
  },
  {
   "cell_type": "code",

   "execution_count": null,
   "metadata": {},
   "outputs": [],
   "source": [
    "#starting by looking at the columns to try and discover what kind of data is in the CSV\n",

    "data.columns"
   ]
  },
  {
   "cell_type": "code",

   "execution_count": null,
   "metadata": {},
   "outputs": [],
   "source": [
    "#showing the dataframe we created from the csv to further inspect it\n",

   
     
    "data"
   ]
  },
  {
   "cell_type": "code",

   "execution_count": null,
   "metadata": {},
   "outputs": [],
   "source": [
    "#shows the unique Topics used in the csv, which are our indicators\n",

  
      

    "data.value_counts('Topic')"
   ]
  },
  {
   "cell_type": "code",

   "execution_count": null,
   "metadata": {},
   "outputs": [],
   "source": [
    "#giving us an idea for the datavalue column is correlating too\n",

  
     
    "data.value_counts('Question')\n"
   ]
  },
  {
   "cell_type": "code",

   "execution_count": null,
   "metadata": {},
   "outputs": [],
   "source": [
    "#checking to see what the DatavalueFootnote column is telling us about the Datavalue column\n",

  
    "data.value_counts('DatavalueFootnote')"
   ]
  },
  {
   "cell_type": "code",

   "execution_count": null,
   "metadata": {},
   "outputs": [],
   "source": [
    "#checking to see what the DataValueUnit column is telling us about the Datavalue column\n",

   
    "data.value_counts('DataValueUnit')"
   ]
  },
  {
   "cell_type": "code",

   "execution_count": null,
   "metadata": {},
   "outputs": [],
   "source": [
    "#checking to see what the DataValueType column is telling us about the Datavalue column\n",

   
    "data.value_counts('DataValueType')"
   ]
  },
  {
   "cell_type": "code",

   "execution_count": null,
   "metadata": {},
   "outputs": [],
   "source": [
    "#shows the YearStart column in order from least to greatest so we can see the range of years we are dealing with\n",
    "data.value_counts('YearStart').sort_index()"

  
   ]
  },
  {
   "cell_type": "code",

   "execution_count": null,
   "metadata": {},
   "outputs": [],
   "source": [
    "#Further inspecting the dataframe to check for columns with no data\n",

    "data.info()"
   ]
  },
  {
   "cell_type": "code",

   "execution_count": 4,

   ]
  },
  {
   "cell_type": "code",

   "execution_count": null,
   "metadata": {},
   "outputs": [],
   "source": [
    "#checking to see how the data was affected by the datadropping cell\n",

    "data_drop.info()"
   ]
  },
  {
   "cell_type": "code",

   "execution_count": 6,

   "metadata": {},
   "outputs": [],
   "source": [
    "#cleaning data_drop to get rid of columns that have no values\n",

    "clean_data_df = data_drop[['YearStart', 'YearEnd', 'LocationAbbr', 'Topic',\n",

   
    "                        'Question','DataValue','DataValueUnit','DataValueType','DatavalueFootnote','LowConfidenceLimit',\n",
    "                        'HighConfidenceLimit','StratificationCategory1','Stratification1' ]]"
   ]
  },
  {
   "cell_type": "code",

   "execution_count": null,
   "metadata": {},
   "outputs": [],
   "source": [
    "#again checking to make sure we still have the full list of Topics in the new clean data set\n",
    "clean_data_df['Topic'].value_counts()"

   ]
  },
  {
   "cell_type": "code",

   "execution_count": 7,
   "metadata": {},
   "outputs": [],
   "source": [
    "#This writes the csv files more efficiently to be able to process the entire csv file\n",
    "# Using a for loop and groupby groups the topics to then seperate them into csv files\n",
    "for topic, df in clean_data_df.groupby('Topic'):\n",
    "    df.to_csv(f'{topic}.csv', index=False)\n",
    "\n",
    "#creates a csv file for the nonconvertable data set to more easly explore later\n",
    "non_convertible_rows.to_csv(f'nonnumerical_data.csv', index = False)"


   ]
  },
  {
   "cell_type": "code",
   "execution_count": 19,
   "metadata": {},
   "outputs": [],
   "source": [

    "#checking to make sure our loop above that wrote individual csvs for each topic is functioning correctly\n",
    "alcohol_df = pd.read_csv('Alcohol.csv')\n",

     
    "alcohol_df"
   ]
  },
  {
   "cell_type": "code",


   "execution_count": 121,
   "metadata": {},
   "outputs": [
    {
     "name": "stdout",
     "output_type": "stream",
     "text": [
      "The 'YearStart' and 'YearEnd' columns do not have the same values in all rows.\n"
     ]
    }
   ],
   "source": [

    "#This checks to see if the YearStart column and YearEnd column have the same values, will run this code on individual csvs\n",

    "same_years = (data_drop['YearStart'] == data_drop['YearEnd']).all()\n",
    "\n",
    "if same_years:\n",
    "    print(\"The 'YearStart' and 'YearEnd' columns have the same values in all rows.\")\n",
    "else:\n",
    "    print(\"The 'YearStart' and 'YearEnd' columns do not have the same values in all rows.\")"
   ]
  },
  {
   "cell_type": "code",

   "execution_count": null,
   "metadata": {},
   "outputs": [],

     
   
   "source": [
    "# This is one row of the noconvertable data to give us an idea of what is in the row and if its usable or not\n",
    "specific_row = non_convertible_rows.loc[529299]\n",
    "specific_row"
   ]
  },
  {

   "cell_type": "markdown",
   "metadata": {},
   "source": [
    "#<center>Fact checking created csv files against the original csv data"

  
   ]
  },
  {
   "cell_type": "code",
   "execution_count": null,
   "metadata": {},
   "outputs": [],
   "source": [

    "#checking against the csv created for Topics against the original csv to see any missing data that might need futher exploring\n",
    "\n",
    "#creates a similar dataframe to the Mental Health csv but uses the original csv before data was cleaned\n",
    "mental_health_df = data.loc[data['Topic'] == 'Mental Health']\n",
    "#uncomenting the next line will produce the full list of questions from the original csv before data was cleaned\n",
    "#mental_health_df['Question'].value_counts()\n",
    "\n",
    "#creates a similar dataframe to the Tobacco.csv but uses the orignial csv before data was cleaned\n",
    "Tobacco_data_df = data.loc[data['Topic']== 'Tobacco']\n",
    "#will produce the full list of questions from the original csv before data was cleaned\n",
    "Tobacco_data_df['Question'].value_counts()\n",
    "\n"

 
   ]
  }
 ],
 "metadata": {
  "kernelspec": {
   "display_name": "dev",
   "language": "python",
   "name": "python3"
  },
  "language_info": {
   "codemirror_mode": {
    "name": "ipython",
    "version": 3
   },
   "file_extension": ".py",
   "mimetype": "text/x-python",
   "name": "python",
   "nbconvert_exporter": "python",
   "pygments_lexer": "ipython3",
   "version": "3.10.14"
  }
 },
 "nbformat": 4,
 "nbformat_minor": 2
}
